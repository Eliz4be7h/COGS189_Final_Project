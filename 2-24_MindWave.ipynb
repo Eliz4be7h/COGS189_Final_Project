{
 "cells": [
  {
   "cell_type": "code",
   "execution_count": null,
   "metadata": {},
   "outputs": [],
   "source": [
    "ls =!ls /dev\n",
    "ls"
   ]
  },
  {
   "cell_type": "code",
   "execution_count": null,
   "metadata": {},
   "outputs": [],
   "source": [
    "import mindwave\n",
    "import time\n",
    "\n",
    "headset = mindwave.Headset('/dev/tty.MindWaveMobile-SerialPo','MMPPHB2013')\n",
    "time.sleep(2)\n",
    "headset.autoconnect()\n",
    "\n",
    "print (\"Connecting...\")\n",
    "\n",
    "while headset.status != ('connected'):\n",
    "    print \"before time\"\n",
    "    time.sleep(0.5)\n",
    "    print(headset.status)\n",
    "    if headset.status == ('standby'):\n",
    "        print \"haha\"\n",
    "        headset.autoconnect()\n",
    "        print (\"Retrying connect...\")\n",
    "    if headset.status == None:\n",
    "        print(headset.attention, headset.meditation)\n",
    "print (\"Connected.\")\n",
    "\n",
    "while True:\n",
    "    print (\"Attention: %s, Meditation: %s\") (headset.attention, headset.meditation)\n"
   ]
  },
  {
   "cell_type": "code",
   "execution_count": null,
   "metadata": {},
   "outputs": [],
   "source": []
  }
 ],
 "metadata": {
  "kernelspec": {
   "display_name": "Python 2",
   "language": "python",
   "name": "python2"
  },
  "language_info": {
   "codemirror_mode": {
    "name": "ipython",
    "version": 2
   },
   "file_extension": ".py",
   "mimetype": "text/x-python",
   "name": "python",
   "nbconvert_exporter": "python",
   "pygments_lexer": "ipython2",
   "version": "2.7.17"
  }
 },
 "nbformat": 4,
 "nbformat_minor": 2
}
