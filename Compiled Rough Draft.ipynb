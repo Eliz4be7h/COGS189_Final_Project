{
 "cells": [
  {
   "cell_type": "code",
   "execution_count": 1,
   "metadata": {},
   "outputs": [
    {
     "name": "stdout",
     "output_type": "stream",
     "text": [
      "pygame 1.9.6\n",
      "Hello from the pygame community. https://www.pygame.org/contribute.html\n"
     ]
    }
   ],
   "source": [
    "# Imports\n",
    "import mindwave\n",
    "import time\n",
    "import pandas as pd\n",
    "import numpy as np\n",
    "import pygame"
   ]
  },
  {
   "cell_type": "markdown",
   "metadata": {},
   "source": [
    "#### Loading Data"
   ]
  },
  {
   "cell_type": "code",
   "execution_count": 2,
   "metadata": {},
   "outputs": [
    {
     "data": {
      "text/html": [
       "<div>\n",
       "<style scoped>\n",
       "    .dataframe tbody tr th:only-of-type {\n",
       "        vertical-align: middle;\n",
       "    }\n",
       "\n",
       "    .dataframe tbody tr th {\n",
       "        vertical-align: top;\n",
       "    }\n",
       "\n",
       "    .dataframe thead th {\n",
       "        text-align: right;\n",
       "    }\n",
       "</style>\n",
       "<table border=\"1\" class=\"dataframe\">\n",
       "  <thead>\n",
       "    <tr style=\"text-align: right;\">\n",
       "      <th></th>\n",
       "      <th>Song_Name</th>\n",
       "      <th>Song_Length</th>\n",
       "      <th>Category</th>\n",
       "    </tr>\n",
       "  </thead>\n",
       "  <tbody>\n",
       "    <tr>\n",
       "      <th>0</th>\n",
       "      <td>10 The Message.mp3</td>\n",
       "      <td>432</td>\n",
       "      <td>1</td>\n",
       "    </tr>\n",
       "    <tr>\n",
       "      <th>1</th>\n",
       "      <td>09 Rapper's Delight.mp3</td>\n",
       "      <td>393</td>\n",
       "      <td>1</td>\n",
       "    </tr>\n",
       "    <tr>\n",
       "      <th>2</th>\n",
       "      <td>Johnny B. Goode.mp3</td>\n",
       "      <td>161</td>\n",
       "      <td>2</td>\n",
       "    </tr>\n",
       "    <tr>\n",
       "      <th>3</th>\n",
       "      <td>Tuttie Fruttie 2.mp3</td>\n",
       "      <td>146</td>\n",
       "      <td>2</td>\n",
       "    </tr>\n",
       "    <tr>\n",
       "      <th>4</th>\n",
       "      <td>02 Strange Fruit.mp3</td>\n",
       "      <td>297</td>\n",
       "      <td>3</td>\n",
       "    </tr>\n",
       "    <tr>\n",
       "      <th>5</th>\n",
       "      <td>Shake, Rattle and Roll 2.mp3</td>\n",
       "      <td>156</td>\n",
       "      <td>3</td>\n",
       "    </tr>\n",
       "    <tr>\n",
       "      <th>6</th>\n",
       "      <td>arabesque.mp3</td>\n",
       "      <td>250</td>\n",
       "      <td>4</td>\n",
       "    </tr>\n",
       "    <tr>\n",
       "      <th>7</th>\n",
       "      <td>TheImperialMarch.mp3</td>\n",
       "      <td>186</td>\n",
       "      <td>4</td>\n",
       "    </tr>\n",
       "  </tbody>\n",
       "</table>\n",
       "</div>"
      ],
      "text/plain": [
       "                     Song_Name   Song_Length  Category\n",
       "0            10 The Message.mp3          432         1\n",
       "1       09 Rapper's Delight.mp3          393         1\n",
       "2           Johnny B. Goode.mp3          161         2\n",
       "3          Tuttie Fruttie 2.mp3          146         2\n",
       "4          02 Strange Fruit.mp3          297         3\n",
       "5  Shake, Rattle and Roll 2.mp3          156         3\n",
       "6                 arabesque.mp3          250         4\n",
       "7          TheImperialMarch.mp3          186         4"
      ]
     },
     "execution_count": 2,
     "metadata": {},
     "output_type": "execute_result"
    }
   ],
   "source": [
    "# Music Options\n",
    "df_music = pd.read_csv('Data/music_categories.csv')\n",
    "df_music"
   ]
  },
  {
   "cell_type": "code",
   "execution_count": 4,
   "metadata": {},
   "outputs": [],
   "source": [
    "# Subject 8's Data\n",
    "# Video 1: confusion = 0\n",
    "# Video 5: confusion = 1\n",
    "df_1 = pd.read_csv('Data/Video1.csv')\n",
    "df_5 = pd.read_csv('Data/Video5.csv')"
   ]
  },
  {
   "cell_type": "markdown",
   "metadata": {},
   "source": [
    "#### Modules Needed for Playing the Music"
   ]
  },
  {
   "cell_type": "code",
   "execution_count": null,
   "metadata": {},
   "outputs": [],
   "source": [
    "pygame.init()\n",
    "pygame.mixer.music.load('oof.mp3')"
   ]
  },
  {
   "cell_type": "code",
   "execution_count": null,
   "metadata": {},
   "outputs": [],
   "source": [
    "# Other Code:\n",
    "pygame.init()\n",
    "song = 'Data/' + df_music['Song_Name '][1]\n",
    "pygame.mixer.music.load(song)\n",
    "pygame.mixer.music.play(0)"
   ]
  },
  {
   "cell_type": "markdown",
   "metadata": {},
   "source": [
    "#### Choosing the Next Song"
   ]
  },
  {
   "cell_type": "code",
   "execution_count": null,
   "metadata": {},
   "outputs": [],
   "source": [
    "fs = 1\n",
    "time_elapsed = 0\n",
    "attention_avg = 0\n",
    "attention_total = 0\n",
    "meditation_total = 0\n",
    "\n",
    "song_length = 20\n",
    "\n",
    "for i, j in df_1.iterrows():\n",
    "    #check for the first NeuroSky recording that != (0,0)\n",
    "    time_elapsed += 1 #in seconds\n",
    "    \n",
    "    attention_total += df_1['attention'][i]\n",
    "    meditation_total += df_1['meditation'][i]\n",
    "    \n",
    "    attention_avg = attention_total/time_elapsed\n",
    "    meditation_avg = meditation_total/time_elapsed\n",
    "    \n",
    "    if time_elapsed >= song_length - 10:\n",
    "        if (attention_avg > 50 and meditation_avg > 50):\n",
    "            song_choice = 1 #High A, High M song \n",
    "        elif (attention_avg > 50 and meditation_avg <= 50):\n",
    "            song_choice = 2 #High A, Low M song \n",
    "        elif (attention_avg <= 50 and meditation_avg > 50):\n",
    "            song_choice = 3 #Low A, High M song \n",
    "        elif (attention_avg <= 50 and meditation_avg <= 50):\n",
    "            song_choice = 4 #Low A, Low M song \n",
    "        else:\n",
    "            print('Error')\n",
    "        \n",
    "        #pygame.mixer.music.queue(song_choice)\n",
    "            \n",
    "# don't want music to stop playing\n",
    "# if playtime is ___ sec before the song end time:\n",
    "# make a classification for next song (pygame.mixer.music.queue())"
   ]
  },
  {
   "cell_type": "code",
   "execution_count": null,
   "metadata": {},
   "outputs": [],
   "source": [
    "attention_avg, meditation_avg "
   ]
  },
  {
   "cell_type": "markdown",
   "metadata": {},
   "source": [
    "#### With the Headset"
   ]
  },
  {
   "cell_type": "code",
   "execution_count": null,
   "metadata": {},
   "outputs": [],
   "source": [
    "while headset.status != ('connected'):\n",
    "    time.sleep(1)\n",
    "    attention_total += headset.attention\n",
    "    meditation_total += headset.meditation\n",
    "    time_elapsed += 1\n",
    "    attention_avg = attention_total/time_elapsed\n",
    "\n",
    "    if headset.status == None:\n",
    "        # When headset is live\n",
    "    print (\"Attention: %s, Meditation: %s\" )%(headset.attention, headset.meditation)\n",
    "    print(attention_avg)"
   ]
  }
 ],
 "metadata": {
  "kernelspec": {
   "display_name": "Python 2",
   "language": "python",
   "name": "python2"
  },
  "language_info": {
   "codemirror_mode": {
    "name": "ipython",
    "version": 2
   },
   "file_extension": ".py",
   "mimetype": "text/x-python",
   "name": "python",
   "nbconvert_exporter": "python",
   "pygments_lexer": "ipython2",
   "version": "2.7.17"
  }
 },
 "nbformat": 4,
 "nbformat_minor": 2
}
