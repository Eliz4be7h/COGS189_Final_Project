{
 "cells": [
  {
   "cell_type": "code",
   "execution_count": 2,
   "metadata": {},
   "outputs": [
    {
     "ename": "SyntaxError",
     "evalue": "Missing parentheses in call to 'print'. Did you mean print(\"before time\")? (<ipython-input-2-2fab3aaa54ac>, line 11)",
     "output_type": "error",
     "traceback": [
      "\u001b[0;36m  File \u001b[0;32m\"<ipython-input-2-2fab3aaa54ac>\"\u001b[0;36m, line \u001b[0;32m11\u001b[0m\n\u001b[0;31m    print \"before time\"\u001b[0m\n\u001b[0m                      ^\u001b[0m\n\u001b[0;31mSyntaxError\u001b[0m\u001b[0;31m:\u001b[0m Missing parentheses in call to 'print'. Did you mean print(\"before time\")?\n"
     ]
    }
   ],
   "source": [
    "import mindwave\n",
    "import time\n",
    "\n",
    "headset = mindwave.Headset('/dev/tty.MindWaveMobile-SerialPo','MMPPHB2013')\n",
    "time.sleep(2)\n",
    "headset.autoconnect()\n",
    "\n",
    "print (\"Connecting...\")\n",
    "\n",
    "while headset.status != ('connected'):\n",
    "    print \"before time\"\n",
    "    time.sleep(0.5)\n",
    "    print(headset.status)\n",
    "    if headset.status == ('standby'):\n",
    "        print \"haha\"\n",
    "        headset.autoconnect()\n",
    "        print (\"Retrying connect...\")\n",
    "    if headset.status == None:\n",
    "        print(headset.attention, headset.meditation)\n",
    "print (\"Connected.\")\n",
    "\n",
    "while True:\n",
    "    print (\"Attention: %s, Meditation: %s\") (headset.attention, headset.meditation)\n"
   ]
  },
  {
   "cell_type": "code",
   "execution_count": 22,
   "metadata": {},
   "outputs": [],
   "source": [
    "import pygame\n",
    "pygame.init()\n",
    "#pygame.mixer.music.load('oof.mp3')\n",
    "pygame.mixer.music.load('TheImperialMarch.mp3')\n",
    "# pygame.mixer.music.play(0)\n",
    "\n",
    "# conditions from attention/meditation\n",
    "# cases for play/pause\n",
    "# pygame.mixer.music.get_busy checks if music stream is playing\n",
    "\n",
    "if attention >= 20: # number subject to change\n",
    "    if pygame.mixer.music.get_busy:\n",
    "        continue\n",
    "    else: \n",
    "        pygame.mixer.music.play(0)\n",
    "        \n",
    "else:\n",
    "    if pygame.mixer.music.get_busy:\n",
    "        pygame.mixer.music.pause\n",
    "    else:\n",
    "        continue\n",
    "        \n",
    "        \n",
    "        "
   ]
  },
  {
   "cell_type": "code",
   "execution_count": null,
   "metadata": {},
   "outputs": [],
   "source": []
  },
  {
   "cell_type": "code",
   "execution_count": null,
   "metadata": {},
   "outputs": [],
   "source": []
  }
 ],
 "metadata": {
  "kernelspec": {
   "display_name": "Python 3",
   "language": "python",
   "name": "python3"
  },
  "language_info": {
   "codemirror_mode": {
    "name": "ipython",
    "version": 3
   },
   "file_extension": ".py",
   "mimetype": "text/x-python",
   "name": "python",
   "nbconvert_exporter": "python",
   "pygments_lexer": "ipython3",
   "version": "3.7.3"
  }
 },
 "nbformat": 4,
 "nbformat_minor": 2
}
