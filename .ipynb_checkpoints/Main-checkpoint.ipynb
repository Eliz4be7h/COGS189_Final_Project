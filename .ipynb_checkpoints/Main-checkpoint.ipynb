{
 "cells": [
  {
   "cell_type": "code",
   "execution_count": null,
   "metadata": {},
   "outputs": [],
   "source": [
    "ls =!ls /dev\n",
    "ls"
   ]
  },
  {
   "cell_type": "code",
   "execution_count": 2,
   "metadata": {},
   "outputs": [
    {
     "name": "stdout",
     "output_type": "stream",
     "text": [
      "Connecting...\n",
      "(66, 44)\n",
      "(60, 44)\n",
      "(53, 64)\n",
      "(50, 57)\n",
      "(47, 67)\n",
      "(44, 57)\n",
      "(43, 53)\n",
      "(44, 69)\n",
      "(47, 53)\n",
      "(53, 63)\n",
      "(54, 64)\n",
      "(53, 61)\n",
      "(47, 57)\n",
      "(38, 47)\n",
      "(40, 44)\n"
     ]
    },
    {
     "ename": "KeyboardInterrupt",
     "evalue": "",
     "output_type": "error",
     "traceback": [
      "\u001b[0;31m---------------------------------------------------------------------------\u001b[0m",
      "\u001b[0;31mKeyboardInterrupt\u001b[0m                         Traceback (most recent call last)",
      "\u001b[0;32m<ipython-input-2-36bed2b3eea5>\u001b[0m in \u001b[0;36m<module>\u001b[0;34m()\u001b[0m\n\u001b[1;32m     16\u001b[0m \u001b[0;32mwhile\u001b[0m \u001b[0mheadset\u001b[0m\u001b[0;34m.\u001b[0m\u001b[0mstatus\u001b[0m \u001b[0;34m!=\u001b[0m \u001b[0;34m(\u001b[0m\u001b[0;34m'connected'\u001b[0m\u001b[0;34m)\u001b[0m\u001b[0;34m:\u001b[0m\u001b[0;34m\u001b[0m\u001b[0m\n\u001b[1;32m     17\u001b[0m \u001b[0;31m#     print \"before time\"\u001b[0m\u001b[0;34m\u001b[0m\u001b[0;34m\u001b[0m\u001b[0m\n\u001b[0;32m---> 18\u001b[0;31m     \u001b[0mtime\u001b[0m\u001b[0;34m.\u001b[0m\u001b[0msleep\u001b[0m\u001b[0;34m(\u001b[0m\u001b[0;36m1\u001b[0m\u001b[0;34m)\u001b[0m\u001b[0;34m\u001b[0m\u001b[0m\n\u001b[0m\u001b[1;32m     19\u001b[0m \u001b[0;31m#     print(headset.status)\u001b[0m\u001b[0;34m\u001b[0m\u001b[0;34m\u001b[0m\u001b[0m\n\u001b[1;32m     20\u001b[0m     \u001b[0;32mif\u001b[0m \u001b[0mheadset\u001b[0m\u001b[0;34m.\u001b[0m\u001b[0mstatus\u001b[0m \u001b[0;34m==\u001b[0m \u001b[0;34m(\u001b[0m\u001b[0;34m'standby'\u001b[0m\u001b[0;34m)\u001b[0m\u001b[0;34m:\u001b[0m\u001b[0;34m\u001b[0m\u001b[0m\n",
      "\u001b[0;31mKeyboardInterrupt\u001b[0m: "
     ]
    }
   ],
   "source": [
    "import mindwave\n",
    "import time\n",
    "\n",
    "# module needed for music\n",
    "import pygame\n",
    "pygame.init()\n",
    "pygame.mixer.music.load('oof.mp3')\n",
    "\n",
    "\n",
    "headset = mindwave.Headset('/dev/tty.MindWaveMobile-SerialPo','MMPPHB2013')\n",
    "time.sleep(2)\n",
    "headset.autoconnect()\n",
    "\n",
    "print (\"Connecting...\")\n",
    "\n",
    "while headset.status != ('connected'):\n",
    "#     print \"before time\"\n",
    "    time.sleep(1)\n",
    "#     print(headset.status)\n",
    "    if headset.status == ('standby'):\n",
    "        print \"haha\"\n",
    "        headset.autoconnect()\n",
    "        print (\"Retrying connect...\")\n",
    "    if headset.status == None:\n",
    "        print(headset.attention, headset.meditation)\n",
    "    if headset.attention >= 20:\n",
    "        pygame.mixer.music.play(0)\n",
    "        \n",
    "print (\"Connected.\")\n",
    "\n",
    "# music module\n",
    "\n",
    "#pygame.mixer.music.load('TheImperialMarch.mp3')\n",
    "# pygame.mixer.music.play(0)\n",
    "\n",
    "# conditions from attention/meditation\n",
    "# cases for play/pause\n",
    "# pygame.mixer.music.get_busy checks if music stream is playing\n",
    "\n",
    "# if attention >= 20: # number subject to change\n",
    "#     if pygame.mixer.music.get_busy:\n",
    "#         continue\n",
    "#     else: \n",
    "#         pygame.mixer.music.play(0)\n",
    "        \n",
    "# else:\n",
    "#     if pygame.mixer.music.get_busy:\n",
    "#         pygame.mixer.music.pause\n",
    "#     else:\n",
    "#         continue\n",
    "        \n",
    "# while True:\n",
    "#     print (\"Attention: %s, Meditation: %s\") (headset.attention, headset.meditation)\n"
   ]
  },
  {
   "cell_type": "code",
   "execution_count": null,
   "metadata": {},
   "outputs": [],
   "source": []
  },
  {
   "cell_type": "code",
   "execution_count": null,
   "metadata": {},
   "outputs": [],
   "source": [
    "import pygame\n",
    "pygame.init()\n",
    "pygame.mixer.music.load('oof.mp3')\n",
    "#pygame.mixer.music.load('TheImperialMarch.mp3')\n",
    "# pygame.mixer.music.play(0)\n",
    "\n",
    "# conditions from attention/meditation\n",
    "# cases for play/pause\n",
    "# pygame.mixer.music.get_busy checks if music stream is playing\n",
    "\n",
    "if attention >= 20: # number subject to change\n",
    "    if pygame.mixer.music.get_busy:\n",
    "        continue\n",
    "    else: \n",
    "        pygame.mixer.music.play(0)\n",
    "        \n",
    "else:\n",
    "    if pygame.mixer.music.get_busy:\n",
    "        pygame.mixer.music.pause\n",
    "    else:\n",
    "        continue\n",
    "        \n",
    "        \n",
    "        "
   ]
  },
  {
   "cell_type": "code",
   "execution_count": null,
   "metadata": {},
   "outputs": [],
   "source": []
  },
  {
   "cell_type": "code",
   "execution_count": null,
   "metadata": {},
   "outputs": [],
   "source": []
  }
 ],
 "metadata": {
  "kernelspec": {
   "display_name": "Python 2",
   "language": "python",
   "name": "python2"
  },
  "language_info": {
   "codemirror_mode": {
    "name": "ipython",
    "version": 2
   },
   "file_extension": ".py",
   "mimetype": "text/x-python",
   "name": "python",
   "nbconvert_exporter": "python",
   "pygments_lexer": "ipython2",
   "version": "2.7.17"
  }
 },
 "nbformat": 4,
 "nbformat_minor": 2
}
