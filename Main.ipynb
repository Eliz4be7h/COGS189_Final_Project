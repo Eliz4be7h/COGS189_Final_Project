{
 "cells": [
  {
   "cell_type": "code",
   "execution_count": 22,
   "metadata": {},
   "outputs": [],
   "source": [
    "import pygame\n",
    "pygame.init()\n",
    "#pygame.mixer.music.load('oof.mp3')\n",
    "pygame.mixer.music.load('TheImperialMarch.mp3')\n",
    "pygame.mixer.music.play(0)\n",
    "\n",
    "# conditions from attention/meditation\n",
    "# cases for play/pause\n",
    "# pygame.mixer.music.get_busy checks if music stream is playing\n",
    "\n",
    "if attention >= 20: # number subject to change\n",
    "    if pygame.mixer.music.get_busy:\n",
    "        continue\n",
    "    else: \n",
    "        pygame.mixer.music.play(0)\n",
    "        \n",
    "else:\n",
    "    if pygame.mixer.music.get_busy:\n",
    "        pygame.mixer.music.pause\n",
    "    else:\n",
    "        continue\n",
    "        \n",
    "        \n",
    "        "
   ]
  },
  {
   "cell_type": "code",
   "execution_count": null,
   "metadata": {},
   "outputs": [],
   "source": []
  },
  {
   "cell_type": "code",
   "execution_count": null,
   "metadata": {},
   "outputs": [],
   "source": []
  }
 ],
 "metadata": {
  "kernelspec": {
   "display_name": "Python 3",
   "language": "python",
   "name": "python3"
  },
  "language_info": {
   "codemirror_mode": {
    "name": "ipython",
    "version": 3
   },
   "file_extension": ".py",
   "mimetype": "text/x-python",
   "name": "python",
   "nbconvert_exporter": "python",
   "pygments_lexer": "ipython3",
   "version": "3.7.3"
  }
 },
 "nbformat": 4,
 "nbformat_minor": 2
}
